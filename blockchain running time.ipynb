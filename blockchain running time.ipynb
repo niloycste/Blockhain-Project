{
 "cells": [
  {
   "cell_type": "code",
   "execution_count": 1,
   "metadata": {},
   "outputs": [
    {
     "name": "stdout",
     "output_type": "stream",
     "text": [
      "start mining\n",
      "Yay! Successfully mined with nonce value:15\n",
      "end mining. Mining took: 0.0 seconds\n",
      "01fa8fe04f6ab5d316a7564842457d4fba58305633ffec8c424b940eaa9da75a\n"
     ]
    }
   ],
   "source": [
    "from hashlib import sha256\n",
    "MAX_NONCE = 100000000000\n",
    "\n",
    "def SHA256(text):\n",
    "    return sha256(text.encode(\"ascii\")).hexdigest()\n",
    "\n",
    "def mine(block_number, transactions, previous_hash, prefix_zeros):\n",
    "    prefix_str = '0'*prefix_zeros\n",
    "    for nonce in range(MAX_NONCE):\n",
    "        text = str(block_number) + transactions + previous_hash + str(nonce)\n",
    "        new_hash = SHA256(text)\n",
    "        if new_hash.startswith(prefix_str):\n",
    "            print(f\"Yay! Successfully mined with nonce value:{nonce}\")\n",
    "            return new_hash\n",
    "\n",
    "    raise BaseException(f\"Couldn't find correct has after trying {MAX_NONCE} times\")\n",
    "\n",
    "if __name__=='__main__':\n",
    "    transactions='''\n",
    "    Dhaval->Bhavin->20,\n",
    "    Mando->Cara->45\n",
    "    '''\n",
    "    difficulty=1 # try changing this to higher number and you will see it will take more time for mining as difficulty increases\n",
    "    import time\n",
    "    start = time.time()\n",
    "    print(\"start mining\")\n",
    "    new_hash = mine(5,transactions,'0000000xa036944e29568d0cff17edbe038f81208fecf9a66be9a2b8321c6ec7', difficulty)\n",
    "    total_time = str((time.time() - start))\n",
    "    print(f\"end mining. Mining took: {total_time} seconds\")\n",
    "    print(new_hash)"
   ]
  },
  {
   "cell_type": "code",
   "execution_count": null,
   "metadata": {},
   "outputs": [],
   "source": []
  }
 ],
 "metadata": {
  "kernelspec": {
   "display_name": "Python 3",
   "language": "python",
   "name": "python3"
  },
  "language_info": {
   "codemirror_mode": {
    "name": "ipython",
    "version": 3
   },
   "file_extension": ".py",
   "mimetype": "text/x-python",
   "name": "python",
   "nbconvert_exporter": "python",
   "pygments_lexer": "ipython3",
   "version": "3.7.4"
  }
 },
 "nbformat": 4,
 "nbformat_minor": 2
}
