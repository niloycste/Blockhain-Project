{
 "cells": [
  {
   "cell_type": "code",
   "execution_count": 1,
   "metadata": {},
   "outputs": [],
   "source": [
    "import hashlib\n",
    "import datetime"
   ]
  },
  {
   "cell_type": "code",
   "execution_count": 2,
   "metadata": {},
   "outputs": [
    {
     "data": {
      "text/plain": [
       "'9c24b06143c07224c897bac972e6e92b46cf18063f1a469ebe2f7a0966306105'"
      ]
     },
     "execution_count": 2,
     "metadata": {},
     "output_type": "execute_result"
    }
   ],
   "source": [
    "m = hashlib.sha3_256()\n",
    "m.update(b'hello world!')\n",
    "m.digest()\n",
    "m.hexdigest() "
   ]
  },
  {
   "cell_type": "code",
   "execution_count": 3,
   "metadata": {},
   "outputs": [
    {
     "data": {
      "text/plain": [
       "'f3a6de5a7a97ec1b0b33e5d13874a73d857b269509584ea9a99d361a90d27195'"
      ]
     },
     "execution_count": 3,
     "metadata": {},
     "output_type": "execute_result"
    }
   ],
   "source": [
    "n = hashlib.sha3_256()\n",
    "n.update(b'hello world! hello world!hello world!hello world!hello world!hello world!hello world!')\n",
    "n.digest()\n",
    "n.hexdigest()"
   ]
  },
  {
   "cell_type": "code",
   "execution_count": 4,
   "metadata": {},
   "outputs": [
    {
     "name": "stdout",
     "output_type": "stream",
     "text": [
      "9c24b06143c07224c897bac972e6e92b46cf18063f1a469ebe2f7a0966306105\n"
     ]
    }
   ],
   "source": [
    "print(m.hexdigest())\n"
   ]
  },
  {
   "cell_type": "code",
   "execution_count": 5,
   "metadata": {},
   "outputs": [
    {
     "name": "stdout",
     "output_type": "stream",
     "text": [
      "f3a6de5a7a97ec1b0b33e5d13874a73d857b269509584ea9a99d361a90d27195\n"
     ]
    }
   ],
   "source": [
    "print(n.hexdigest())"
   ]
  },
  {
   "cell_type": "code",
   "execution_count": 6,
   "metadata": {},
   "outputs": [
    {
     "data": {
      "text/plain": [
       "'f3a6de5a7a97ec1b0b33e5d13874a73d857b269509584ea9a99d361a90d27195'"
      ]
     },
     "execution_count": 6,
     "metadata": {},
     "output_type": "execute_result"
    }
   ],
   "source": [
    "n = hashlib.sha3_256()\n",
    "n.update(b'hello world! hello world!hello world!hello world!hello world!hello world!hello world!')\n",
    "n.digest()\n",
    "n.hexdigest()"
   ]
  },
  {
   "cell_type": "code",
   "execution_count": 7,
   "metadata": {},
   "outputs": [
    {
     "name": "stdout",
     "output_type": "stream",
     "text": [
      "f3a6de5a7a97ec1b0b33e5d13874a73d857b269509584ea9a99d361a90d27195\n"
     ]
    }
   ],
   "source": [
    "print(n.hexdigest())"
   ]
  },
  {
   "cell_type": "code",
   "execution_count": 8,
   "metadata": {},
   "outputs": [
    {
     "data": {
      "text/plain": [
       "'f8551fe638d604e2cac84f39b5c38f400d161245a16359b59a57286c'"
      ]
     },
     "execution_count": 8,
     "metadata": {},
     "output_type": "execute_result"
    }
   ],
   "source": [
    "m = hashlib.sha3_224()\n",
    "m.update(b'hello world!')\n",
    "m.digest()\n",
    "m.hexdigest() "
   ]
  },
  {
   "cell_type": "code",
   "execution_count": 9,
   "metadata": {},
   "outputs": [
    {
     "name": "stdout",
     "output_type": "stream",
     "text": [
      "f8551fe638d604e2cac84f39b5c38f400d161245a16359b59a57286c\n"
     ]
    }
   ],
   "source": [
    "print(m.hexdigest())"
   ]
  },
  {
   "cell_type": "code",
   "execution_count": 11,
   "metadata": {},
   "outputs": [],
   "source": [
    "book = b'some  very very very very very very very very very very very very very very very very very very very very very very long book'\n",
    "book2 = b'some  very very very very very very very very very very very very very very very very very very very very very very long book'"
   ]
  },
  {
   "cell_type": "code",
   "execution_count": 12,
   "metadata": {},
   "outputs": [
    {
     "data": {
      "text/plain": [
       "'2548010ddf7849d877560e72898b42ac82730d3982284c919a5a8ba8d5d0de8a'"
      ]
     },
     "execution_count": 12,
     "metadata": {},
     "output_type": "execute_result"
    }
   ],
   "source": [
    "m = hashlib.sha3_256()\n",
    "m.update(book)\n",
    "m.digest()\n",
    "m.hexdigest() "
   ]
  },
  {
   "cell_type": "code",
   "execution_count": 13,
   "metadata": {},
   "outputs": [
    {
     "data": {
      "text/plain": [
       "'2548010ddf7849d877560e72898b42ac82730d3982284c919a5a8ba8d5d0de8a'"
      ]
     },
     "execution_count": 13,
     "metadata": {},
     "output_type": "execute_result"
    }
   ],
   "source": [
    "n = hashlib.sha3_256()\n",
    "n.update(book2)\n",
    "n.digest()\n",
    "n.hexdigest()"
   ]
  },
  {
   "cell_type": "code",
   "execution_count": 14,
   "metadata": {},
   "outputs": [],
   "source": [
    "block={\n",
    "    'transactions' :[\n",
    "        {\n",
    "            'from': 'A',\n",
    "            'to': 'B',\n",
    "            'amount': 10\n",
    "        },\n",
    "        {\n",
    "            'from': 'B',\n",
    "            'to': 'C',\n",
    "            'amount': 10\n",
    "        },\n",
    "        {\n",
    "            'from': 'C',\n",
    "            'to': 'D',\n",
    "            'amount': 10,\n",
    "            'message': 'thanks for the help!'\n",
    "        },\n",
    "    ]\n",
    "}"
   ]
  },
  {
   "cell_type": "code",
   "execution_count": 15,
   "metadata": {},
   "outputs": [
    {
     "data": {
      "text/plain": [
       "{'transactions': [{'from': 'A', 'to': 'B', 'amount': 10},\n",
       "  {'from': 'B', 'to': 'C', 'amount': 10},\n",
       "  {'from': 'C', 'to': 'D', 'amount': 10, 'message': 'thanks for the help!'}]}"
      ]
     },
     "execution_count": 15,
     "metadata": {},
     "output_type": "execute_result"
    }
   ],
   "source": [
    "block"
   ]
  },
  {
   "cell_type": "code",
   "execution_count": 16,
   "metadata": {},
   "outputs": [],
   "source": [
    "import pickle"
   ]
  },
  {
   "cell_type": "code",
   "execution_count": 17,
   "metadata": {},
   "outputs": [
    {
     "data": {
      "text/plain": [
       "b'\\x80\\x03}q\\x00X\\x0c\\x00\\x00\\x00transactionsq\\x01]q\\x02(}q\\x03(X\\x04\\x00\\x00\\x00fromq\\x04X\\x01\\x00\\x00\\x00Aq\\x05X\\x02\\x00\\x00\\x00toq\\x06X\\x01\\x00\\x00\\x00Bq\\x07X\\x06\\x00\\x00\\x00amountq\\x08K\\nu}q\\t(h\\x04h\\x07h\\x06X\\x01\\x00\\x00\\x00Cq\\nh\\x08K\\nu}q\\x0b(h\\x04h\\nh\\x06X\\x01\\x00\\x00\\x00Dq\\x0ch\\x08K\\nX\\x07\\x00\\x00\\x00messageq\\rX\\x14\\x00\\x00\\x00thanks for the help!q\\x0eues.'"
      ]
     },
     "execution_count": 17,
     "metadata": {},
     "output_type": "execute_result"
    }
   ],
   "source": [
    "pickle.dumps(block)"
   ]
  },
  {
   "cell_type": "code",
   "execution_count": 18,
   "metadata": {},
   "outputs": [
    {
     "data": {
      "text/plain": [
       "'80b4891dd9d8ced8d00bd5b1356f57a567bbf7d950efb815aeeeaf570659704b'"
      ]
     },
     "execution_count": 18,
     "metadata": {},
     "output_type": "execute_result"
    }
   ],
   "source": [
    "m = hashlib.sha3_256()\n",
    "m.update(pickle.dumps(block))\n",
    "m.digest()\n",
    "m.hexdigest() "
   ]
  },
  {
   "cell_type": "code",
   "execution_count": 19,
   "metadata": {},
   "outputs": [],
   "source": [
    "block2={\n",
    "    'transactions' :[\n",
    "        {\n",
    "            'from': 'A',\n",
    "            'to': 'B',\n",
    "            'amount': 10000000\n",
    "        },\n",
    "        {\n",
    "            'from': 'B',\n",
    "            'to': 'C',\n",
    "            'amount': 10\n",
    "        },\n",
    "        {\n",
    "            'from': 'C',\n",
    "            'to': 'D',\n",
    "            'amount': 10,\n",
    "            'message': 'thanks for the help!'\n",
    "        },\n",
    "    ]\n",
    "}"
   ]
  },
  {
   "cell_type": "code",
   "execution_count": 20,
   "metadata": {},
   "outputs": [
    {
     "data": {
      "text/plain": [
       "'38ef0cc2c3dd8b6588d7fd10678794a43953bee18820406da4688ecefe57bbf5'"
      ]
     },
     "execution_count": 20,
     "metadata": {},
     "output_type": "execute_result"
    }
   ],
   "source": [
    "n = hashlib.sha3_256()\n",
    "n.update(pickle.dumps(block2))\n",
    "n.digest()\n",
    "n.hexdigest()"
   ]
  },
  {
   "cell_type": "code",
   "execution_count": 21,
   "metadata": {},
   "outputs": [
    {
     "name": "stdout",
     "output_type": "stream",
     "text": [
      "80b4891dd9d8ced8d00bd5b1356f57a567bbf7d950efb815aeeeaf570659704b\n",
      "80b4891dd9d8ced8d00bd5b1356f57a567bbf7d950efb815aeeeaf570659704b\n",
      "80b4891dd9d8ced8d00bd5b1356f57a567bbf7d950efb815aeeeaf570659704b\n",
      "80b4891dd9d8ced8d00bd5b1356f57a567bbf7d950efb815aeeeaf570659704b\n",
      "80b4891dd9d8ced8d00bd5b1356f57a567bbf7d950efb815aeeeaf570659704b\n",
      "80b4891dd9d8ced8d00bd5b1356f57a567bbf7d950efb815aeeeaf570659704b\n",
      "80b4891dd9d8ced8d00bd5b1356f57a567bbf7d950efb815aeeeaf570659704b\n",
      "38ef0cc2c3dd8b6588d7fd10678794a43953bee18820406da4688ecefe57bbf5\n"
     ]
    }
   ],
   "source": [
    "print(m.hexdigest())\n",
    "print(m.hexdigest())\n",
    "print(m.hexdigest())\n",
    "print(m.hexdigest())\n",
    "print(m.hexdigest())\n",
    "print(m.hexdigest())\n",
    "print(m.hexdigest())\n",
    "print(n.hexdigest())"
   ]
  },
  {
   "cell_type": "code",
   "execution_count": 22,
   "metadata": {},
   "outputs": [],
   "source": [
    "top_block={\n",
    "    'transactions' :[\n",
    "        {\n",
    "            'from': 'A',\n",
    "            'to': 'B',\n",
    "            'amount': 10\n",
    "        },\n",
    "        {\n",
    "            'from': 'B',\n",
    "            'to': 'C',\n",
    "            'amount': 10\n",
    "        },\n",
    "        {\n",
    "            'from': 'C',\n",
    "            'to': 'D',\n",
    "            'amount': 10,\n",
    "            'message': 'thanks for the help!'\n",
    "        },\n",
    "    ],\n",
    "    'last_block': m.hexdigest(),\n",
    "    'nonce': 0\n",
    "}"
   ]
  },
  {
   "cell_type": "code",
   "execution_count": 23,
   "metadata": {},
   "outputs": [
    {
     "data": {
      "text/plain": [
       "{'transactions': [{'from': 'A', 'to': 'B', 'amount': 10},\n",
       "  {'from': 'B', 'to': 'C', 'amount': 10},\n",
       "  {'from': 'C', 'to': 'D', 'amount': 10, 'message': 'thanks for the help!'}],\n",
       " 'last_block': '80b4891dd9d8ced8d00bd5b1356f57a567bbf7d950efb815aeeeaf570659704b',\n",
       " 'nonce': 0}"
      ]
     },
     "execution_count": 23,
     "metadata": {},
     "output_type": "execute_result"
    }
   ],
   "source": [
    "top_block"
   ]
  },
  {
   "cell_type": "code",
   "execution_count": 24,
   "metadata": {},
   "outputs": [
    {
     "data": {
      "text/plain": [
       "'d1c87daa69cb06accd7012cf978a923595f9f0c390b635c11f3d667dfbb2d6e3'"
      ]
     },
     "execution_count": 24,
     "metadata": {},
     "output_type": "execute_result"
    }
   ],
   "source": [
    "o = hashlib.sha3_256()\n",
    "o.update(pickle.dumps(top_block))\n",
    "o.digest()\n",
    "o.hexdigest()"
   ]
  },
  {
   "cell_type": "code",
   "execution_count": 25,
   "metadata": {},
   "outputs": [],
   "source": [
    "difficulty=1\n",
    "difficulty_string = ''.join(['0' for x in range(difficulty)])"
   ]
  },
  {
   "cell_type": "code",
   "execution_count": 26,
   "metadata": {},
   "outputs": [
    {
     "name": "stdout",
     "output_type": "stream",
     "text": [
      "0\n"
     ]
    }
   ],
   "source": [
    "print(difficulty_string)"
   ]
  },
  {
   "cell_type": "code",
   "execution_count": 27,
   "metadata": {},
   "outputs": [
    {
     "data": {
      "text/plain": [
       "{'transactions': [{'from': 'A', 'to': 'B', 'amount': 10},\n",
       "  {'from': 'B', 'to': 'C', 'amount': 10},\n",
       "  {'from': 'C', 'to': 'D', 'amount': 10, 'message': 'thanks for the help!'}],\n",
       " 'last_block': '80b4891dd9d8ced8d00bd5b1356f57a567bbf7d950efb815aeeeaf570659704b',\n",
       " 'nonce': 0}"
      ]
     },
     "execution_count": 27,
     "metadata": {},
     "output_type": "execute_result"
    }
   ],
   "source": [
    "top_block\n"
   ]
  },
  {
   "cell_type": "code",
   "execution_count": 28,
   "metadata": {},
   "outputs": [
    {
     "name": "stdout",
     "output_type": "stream",
     "text": [
      "2 27b277031e55963651420fd37a6a1ce32c8604d8e4de85ad51d9ec4f254ecddb\n",
      "3 df66099b47a089c53436462737a59d207556c5b3bf12cd9080e1903e7b4672ac\n",
      "4 3b3d66454fadcefef6d56349af2b80cfe6f7aaaadcb3a13ff451a5a2b34842e2\n",
      "5 bcb00ce4dcdd88fec7f3b02e95ec4172a750d12302ce63158e2f2765c33d76cb\n",
      "6 269102bd603e4b2b5d89260a7017bfdd4335a223c0db1ca3763ec998f1f514f5\n",
      "7 b9173a6db31f60688a5fa420983a6b33104ba90b5533155931212b1911b06dbd\n",
      "8 1e6ef2032885419d70ea838cfcb8de478eda477b2d9619e1039bb49bd07867ca\n",
      "9 3112734b1e4aeaca423ecba5f14c564ad7f2e33fb5aa183d4dee665cad325d81\n",
      "10 8027b4c4d2f07adb1361ec2937296d7f3f713bc9fe7a3d589b9019f1c634443e\n",
      "11 2b280d8a954dfae74aa584a81e91cb4f0211d943bfce6afa9d146943ee147e33\n",
      "12 fd961eb75df36be323e932d8fcbccf235bee4fc0e51d2b1c4e7682061dac22cd\n",
      "13 da4f34514050949b734f5cef29e6119b8fae02c6df391236dae677cfaa5d91f7\n",
      "14 e4ca51cdde798b0f0488d5613feac66f688064ebf596dcc5a28c9a5ea04395c7\n",
      "15 a3ffb8c076b7a928d1d038a38110589f58ff1c516e1264fc16c94cd7a7c9aa60\n",
      "16 2683fc7cce2db9aa0731a152f362714eb0fedbeebbe9a9bbfb4b20d45b4dd94a\n",
      "17 ace84ff3de6ee2b696106ee9211a5a4808d30a1d5def26153b690db5508c365a\n",
      "18 33587f600ce3e991721cf779a58efc1e90719885105b8d32222b3238d468cc33\n",
      "19 37aff7e4393595e85bd3a0f2a81357f372de1696531c27a9307204ad2c765ea1\n",
      "20 e97166f36c6264cc57cdc7e2bcfdce8d7484e849eeaadb41af7be4815bc662b5\n",
      "21 3fc83627576ae5f73320f0e18dc6bd9ec29f755d488c42e8caf5f4ccf43061d5\n",
      "22 8b053201393be5654faa8a926ee28ed9112be83f766a37590b703441d8999608\n",
      "23 9c1ede8fdf3b6fa850bc3329a1040ab4285a29a92497b218ded65c2a7e05042c\n",
      "24 3eb162f5e74caa54cb38a6b50ba14aa307d84ca0f6bf19e25abf469d0d5ce2bc\n",
      "25 4ef2932b48e88a002c15fe3210829fd4a97c91a59532334cda18463cecc23af5\n",
      "26 042291f8a604f02b553c5522d35c9221cd75d506d9d6374ca1c067391d86e286\n"
     ]
    }
   ],
   "source": [
    "import datetime\n",
    "nonce=1\n",
    "top_block['nonce']=1\n",
    "p=hashlib.sha3_256()\n",
    "while p.hexdigest()[:difficulty]!=difficulty_string:\n",
    "    nonce += 1\n",
    "    top_block['nonce']=nonce\n",
    "    p=hashlib.sha3_256()\n",
    "    p.update(pickle.dumps(top_block))\n",
    "    print(nonce,p.hexdigest())"
   ]
  },
  {
   "cell_type": "code",
   "execution_count": 30,
   "metadata": {},
   "outputs": [
    {
     "data": {
      "text/plain": [
       "{'transactions': [{'from': 'A', 'to': 'B', 'amount': 10},\n",
       "  {'from': 'B', 'to': 'C', 'amount': 10},\n",
       "  {'from': 'C', 'to': 'D', 'amount': 10, 'message': 'thanks for the help!'}],\n",
       " 'last_block': '80b4891dd9d8ced8d00bd5b1356f57a567bbf7d950efb815aeeeaf570659704b',\n",
       " 'nonce': 26}"
      ]
     },
     "execution_count": 30,
     "metadata": {},
     "output_type": "execute_result"
    }
   ],
   "source": [
    "top_block"
   ]
  },
  {
   "cell_type": "code",
   "execution_count": null,
   "metadata": {},
   "outputs": [],
   "source": []
  }
 ],
 "metadata": {
  "kernelspec": {
   "display_name": "Python 3",
   "language": "python",
   "name": "python3"
  },
  "language_info": {
   "codemirror_mode": {
    "name": "ipython",
    "version": 3
   },
   "file_extension": ".py",
   "mimetype": "text/x-python",
   "name": "python",
   "nbconvert_exporter": "python",
   "pygments_lexer": "ipython3",
   "version": "3.7.4"
  }
 },
 "nbformat": 4,
 "nbformat_minor": 2
}
